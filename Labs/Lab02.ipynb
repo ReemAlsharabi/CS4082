{
  "nbformat": 4,
  "nbformat_minor": 0,
  "metadata": {
    "colab": {
      "provenance": []
    },
    "kernelspec": {
      "name": "python3",
      "display_name": "Python 3"
    },
    "language_info": {
      "name": "python"
    }
  },
  "cells": [
    {
      "cell_type": "code",
      "execution_count": 1,
      "metadata": {
        "colab": {
          "base_uri": "https://localhost:8080/"
        },
        "id": "aS_HZdw8TJdi",
        "outputId": "2debb077-4e0f-43b9-87b1-a02ab491cbcf"
      },
      "outputs": [
        {
          "output_type": "stream",
          "name": "stdout",
          "text": [
            "Test:\n",
            " [1 0 2 1 1 0 1 2 1 1 2 0 0 0 0 1 2 1 1 2 0 2 0 2 2 2 2 2 0 0 0 0 1 0 0 2 1\n",
            " 0 0 0 2 1 1 0 0] \n",
            "\n",
            "Predictions:\n",
            " [1 0 2 1 1 0 1 2 1 1 2 0 0 0 0 1 2 1 1 2 0 2 0 2 2 2 2 2 0 0 0 0 1 0 0 2 1\n",
            " 0 0 0 2 1 1 0 0]\n",
            "\n",
            "Accuracy: 1.0\n"
          ]
        }
      ],
      "source": [
        "from sklearn.neighbors import KNeighborsClassifier\n",
        "from sklearn.datasets import load_iris\n",
        "from sklearn.model_selection import train_test_split\n",
        "\n",
        "# Load the iris dataset\n",
        "iris = load_iris()\n",
        "\n",
        "# Split the dataset into training and test sets\n",
        "X_train, X_test, y_train, y_test = train_test_split(iris.data, iris.target, test_size=0.3, random_state=42)\n",
        "\n",
        "# Create a KNN classifier with k=5\n",
        "knn = KNeighborsClassifier(n_neighbors=3)\n",
        "\n",
        "# Train the classifier on the training data\n",
        "knn.fit(X_train, y_train)\n",
        "\n",
        "# Predict the class labels for the test data\n",
        "y_pred = knn.predict(X_test)\n",
        "\n",
        "print(\"Test:\\n\", y_test, \"\\n\\nPredictions:\\n\", y_pred)\n",
        "\n",
        "# Print the accuracy of the classifier\n",
        "print(\"\\nAccuracy:\", knn.score(X_test, y_test))"
      ]
    }
  ]
}