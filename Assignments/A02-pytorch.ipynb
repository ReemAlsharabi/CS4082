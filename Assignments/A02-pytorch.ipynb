{
  "nbformat": 4,
  "nbformat_minor": 0,
  "metadata": {
    "colab": {
      "provenance": []
    },
    "kernelspec": {
      "name": "python3",
      "display_name": "Python 3"
    },
    "language_info": {
      "name": "python"
    }
  },
  "cells": [
    {
      "cell_type": "code",
      "execution_count": null,
      "metadata": {
        "id": "V0RhNGmBjFWt"
      },
      "outputs": [],
      "source": [
        "import torch\n",
        "import numpy as np\n",
        "import matplotlib.pyplot as plt\n",
        "import seaborn"
      ]
    },
    {
      "cell_type": "code",
      "source": [
        "# Creating a function f(X) with a slope of -5\n",
        "X = torch.arange(-5, 5, 0.2).view(-1, 1)\n",
        "func = -5 * X"
      ],
      "metadata": {
        "id": "Vq4OWcCNjJFj"
      },
      "execution_count": null,
      "outputs": []
    },
    {
      "cell_type": "code",
      "source": [
        "# Plot the line in red with grids\n",
        "plt.plot(X.numpy(), func.numpy(), 'r', label='func')\n",
        "plt.xlabel('x')\n",
        "plt.ylabel('y')\n",
        "plt.legend()\n",
        "plt.grid('True', color='y')\n",
        "plt.show()"
      ],
      "metadata": {
        "id": "EFDhIKURjPbB"
      },
      "execution_count": null,
      "outputs": []
    },
    {
      "cell_type": "code",
      "source": [
        "# Adding Gaussian noise to the function f(X) and saving it in Y\n",
        "Y = func + 1.7 * torch.randn(X.size())"
      ],
      "metadata": {
        "id": "c2KRcFl5jRuy"
      },
      "execution_count": null,
      "outputs": []
    },
    {
      "cell_type": "code",
      "source": [
        "# Plot and visualizing the data points in blue\n",
        "plt.plot(X.numpy(), Y.numpy(), 'b+', label='Y')\n",
        "plt.plot(X.numpy(), func.numpy(), 'r', label='func')\n",
        "plt.xlabel('x')\n",
        "plt.ylabel('y')\n",
        "plt.legend()\n",
        "plt.grid('True', color='y')\n",
        "plt.show()"
      ],
      "metadata": {
        "id": "ahd47p24jgrB"
      },
      "execution_count": null,
      "outputs": []
    },
    {
      "cell_type": "code",
      "source": [
        "# defining the function for forward pass for prediction\n",
        "def forward(x):\n",
        "    return w * x"
      ],
      "metadata": {
        "id": "T-vtFS9Gjig2"
      },
      "execution_count": null,
      "outputs": []
    },
    {
      "cell_type": "code",
      "source": [
        "# evaluating data points with Mean Square Error.\n",
        "def criterion(y_pred, y):\n",
        "    return torch.mean(  (y_pred - y) ** 2  )"
      ],
      "metadata": {
        "id": "DpPaj2Vvjv5A"
      },
      "execution_count": null,
      "outputs": []
    },
    {
      "cell_type": "code",
      "source": [
        "w = torch.tensor(-10.0, requires_grad=True)"
      ],
      "metadata": {
        "id": "UMXfOHC0jx9G"
      },
      "execution_count": null,
      "outputs": []
    },
    {
      "cell_type": "code",
      "source": [
        "step_size = 0.1\n",
        "loss_list = []\n",
        "iter = 20"
      ],
      "metadata": {
        "id": "Ml6UCAqujzvm"
      },
      "execution_count": null,
      "outputs": []
    },
    {
      "cell_type": "code",
      "source": [
        "for i in range (iter):\n",
        "    # making predictions with forward pass\n",
        "    Y_pred = forward(X)\n",
        "\n",
        "\n",
        "    # calculating the loss between original and predicted data points\n",
        "    loss = criterion(Y_pred, Y)\n",
        "\n",
        "\n",
        "    # storing the calculated loss in a list\n",
        "    loss_list.append(loss.item())\n",
        "\n",
        "\n",
        "    # backward pass for computing the gradients of the loss w.r.t to learnable parameters\n",
        "    loss.backward()\n",
        "\n",
        "\n",
        "    # updateing the parameters after each iteration\n",
        "    w.data = w.data - step_size * w.grad.data\n",
        "\n",
        "\n",
        "    # zeroing gradients after each iteration\n",
        "    w.grad.data.zero_()\n",
        "\n",
        "\n",
        "    # priting the values for understanding\n",
        "    print('{},\\t{},\\t{}'.format(i, loss.item(), w.item())) \n",
        "    \n",
        "    \n",
        "    # .item() gets the numeric value from the tensor structure"
      ],
      "metadata": {
        "id": "3C11BynFj1yw"
      },
      "execution_count": null,
      "outputs": []
    },
    {
      "cell_type": "code",
      "source": [
        "# Plotting the loss after each iteration\n",
        "plt.plot(loss_list, 'r')\n",
        "plt.tight_layout()\n",
        "plt.grid('True', color='y')\n",
        "plt.xlabel(\"Epochs/Iterations\")\n",
        "plt.ylabel(\"Loss\")\n",
        "plt.show()"
      ],
      "metadata": {
        "id": "dt9RKOLSj-EZ"
      },
      "execution_count": null,
      "outputs": []
    },
    {
      "cell_type": "code",
      "source": [
        "w.item()"
      ],
      "metadata": {
        "colab": {
          "base_uri": "https://localhost:8080/"
        },
        "id": "sSswUL6-kQ5O",
        "outputId": "9412eaed-eaab-4d8c-81fd-822516587349"
      },
      "execution_count": null,
      "outputs": [
        {
          "output_type": "execute_result",
          "data": {
            "text/plain": [
              "-4.990855693817139"
            ]
          },
          "metadata": {},
          "execution_count": 35
        }
      ]
    },
    {
      "cell_type": "code",
      "source": [],
      "metadata": {
        "id": "RA8s3FjZkbuU"
      },
      "execution_count": null,
      "outputs": []
    }
  ]
}
